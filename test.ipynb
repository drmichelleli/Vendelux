{
 "cells": [
  {
   "cell_type": "code",
   "execution_count": 14,
   "metadata": {},
   "outputs": [],
   "source": [
    "import pandas as pd"
   ]
  },
  {
   "cell_type": "code",
   "execution_count": 15,
   "metadata": {},
   "outputs": [
    {
     "data": {
      "text/plain": [
       "1571"
      ]
     },
     "execution_count": 15,
     "metadata": {},
     "output_type": "execute_result"
    }
   ],
   "source": [
    "df1 = pd.read_excel('input/Dataset.xlsx', sheet_name='post_details')\n",
    "len(df1)"
   ]
  },
  {
   "cell_type": "code",
   "execution_count": 16,
   "metadata": {},
   "outputs": [],
   "source": [
    "df1.drop_duplicates(subset=['POST_ID'], keep='first', inplace=True)"
   ]
  },
  {
   "cell_type": "code",
   "execution_count": 17,
   "metadata": {},
   "outputs": [
    {
     "data": {
      "text/plain": [
       "1569"
      ]
     },
     "execution_count": 17,
     "metadata": {},
     "output_type": "execute_result"
    }
   ],
   "source": [
    "len(df1)"
   ]
  },
  {
   "cell_type": "code",
   "execution_count": 33,
   "metadata": {},
   "outputs": [],
   "source": [
    "df2 = pd.read_csv('output/prompt_classification_output.csv')"
   ]
  },
  {
   "cell_type": "code",
   "execution_count": 34,
   "metadata": {},
   "outputs": [
    {
     "data": {
      "text/html": [
       "<div>\n",
       "<style scoped>\n",
       "    .dataframe tbody tr th:only-of-type {\n",
       "        vertical-align: middle;\n",
       "    }\n",
       "\n",
       "    .dataframe tbody tr th {\n",
       "        vertical-align: top;\n",
       "    }\n",
       "\n",
       "    .dataframe thead th {\n",
       "        text-align: right;\n",
       "    }\n",
       "</style>\n",
       "<table border=\"1\" class=\"dataframe\">\n",
       "  <thead>\n",
       "    <tr style=\"text-align: right;\">\n",
       "      <th></th>\n",
       "      <th>POST_ID</th>\n",
       "      <th>POST_TEXT</th>\n",
       "      <th>SHARED_POST_TEXT</th>\n",
       "      <th>DATE_PUBLISHED</th>\n",
       "      <th>IS_ATTENDING</th>\n",
       "      <th>dmexco_found</th>\n",
       "      <th>reason</th>\n",
       "    </tr>\n",
       "  </thead>\n",
       "  <tbody>\n",
       "    <tr>\n",
       "      <th>0</th>\n",
       "      <td>7233969530023096321</td>\n",
       "      <td>Will you be attending DMEXCO this year? Join S...</td>\n",
       "      <td>NaN</td>\n",
       "      <td>2024-08-26T22:52:16.568Z</td>\n",
       "      <td>yes</td>\n",
       "      <td>yes</td>\n",
       "      <td>The post date is within 12 months before the e...</td>\n",
       "    </tr>\n",
       "    <tr>\n",
       "      <th>1</th>\n",
       "      <td>7116725767505330176</td>\n",
       "      <td>Dans les coulisses des émissions de THE SOCIET...</td>\n",
       "      <td>NaN</td>\n",
       "      <td>2023-10-08T10:07:25.322Z</td>\n",
       "      <td>no</td>\n",
       "      <td>no</td>\n",
       "      <td>The post date is October 8, 2023, which is mor...</td>\n",
       "    </tr>\n",
       "    <tr>\n",
       "      <th>2</th>\n",
       "      <td>6882671739764031488</td>\n",
       "      <td>Don’t be afraid. This was traditionally my las...</td>\n",
       "      <td>NaN</td>\n",
       "      <td>2021-12-31T13:20:16.601Z</td>\n",
       "      <td>no</td>\n",
       "      <td>no</td>\n",
       "      <td>The post date is December 31, 2021, which is m...</td>\n",
       "    </tr>\n",
       "    <tr>\n",
       "      <th>3</th>\n",
       "      <td>7242942933220442112</td>\n",
       "      <td>#wwc</td>\n",
       "      <td>NaN</td>\n",
       "      <td>2024-09-20T17:09:22.620Z</td>\n",
       "      <td>no</td>\n",
       "      <td>yes</td>\n",
       "      <td>The post date is within 12 months after the ev...</td>\n",
       "    </tr>\n",
       "    <tr>\n",
       "      <th>4</th>\n",
       "      <td>7243861658689843200</td>\n",
       "      <td>💥 50.000 people, two major events, one city. 💥...</td>\n",
       "      <td>NaN</td>\n",
       "      <td>2024-09-23T06:00:03.850Z</td>\n",
       "      <td>yes</td>\n",
       "      <td>yes</td>\n",
       "      <td>The post mentions attending DMEXCO and Digital...</td>\n",
       "    </tr>\n",
       "  </tbody>\n",
       "</table>\n",
       "</div>"
      ],
      "text/plain": [
       "               POST_ID                                          POST_TEXT  \\\n",
       "0  7233969530023096321  Will you be attending DMEXCO this year? Join S...   \n",
       "1  7116725767505330176  Dans les coulisses des émissions de THE SOCIET...   \n",
       "2  6882671739764031488  Don’t be afraid. This was traditionally my las...   \n",
       "3  7242942933220442112                                               #wwc   \n",
       "4  7243861658689843200  💥 50.000 people, two major events, one city. 💥...   \n",
       "\n",
       "  SHARED_POST_TEXT            DATE_PUBLISHED IS_ATTENDING dmexco_found  \\\n",
       "0              NaN  2024-08-26T22:52:16.568Z          yes          yes   \n",
       "1              NaN  2023-10-08T10:07:25.322Z           no           no   \n",
       "2              NaN  2021-12-31T13:20:16.601Z           no           no   \n",
       "3              NaN  2024-09-20T17:09:22.620Z           no          yes   \n",
       "4              NaN  2024-09-23T06:00:03.850Z          yes          yes   \n",
       "\n",
       "                                              reason  \n",
       "0  The post date is within 12 months before the e...  \n",
       "1  The post date is October 8, 2023, which is mor...  \n",
       "2  The post date is December 31, 2021, which is m...  \n",
       "3  The post date is within 12 months after the ev...  \n",
       "4  The post mentions attending DMEXCO and Digital...  "
      ]
     },
     "execution_count": 34,
     "metadata": {},
     "output_type": "execute_result"
    }
   ],
   "source": [
    "df2.head()"
   ]
  },
  {
   "cell_type": "code",
   "execution_count": 19,
   "metadata": {},
   "outputs": [
    {
     "data": {
      "text/plain": [
       "1569"
      ]
     },
     "execution_count": 19,
     "metadata": {},
     "output_type": "execute_result"
    }
   ],
   "source": [
    "len(df2)"
   ]
  },
  {
   "cell_type": "code",
   "execution_count": 21,
   "metadata": {},
   "outputs": [
    {
     "data": {
      "text/html": [
       "<div>\n",
       "<style scoped>\n",
       "    .dataframe tbody tr th:only-of-type {\n",
       "        vertical-align: middle;\n",
       "    }\n",
       "\n",
       "    .dataframe tbody tr th {\n",
       "        vertical-align: top;\n",
       "    }\n",
       "\n",
       "    .dataframe thead th {\n",
       "        text-align: right;\n",
       "    }\n",
       "</style>\n",
       "<table border=\"1\" class=\"dataframe\">\n",
       "  <thead>\n",
       "    <tr style=\"text-align: right;\">\n",
       "      <th></th>\n",
       "      <th>POST_ID</th>\n",
       "      <th>POST_TEXT</th>\n",
       "      <th>SHARED_POST_TEXT</th>\n",
       "      <th>DATE_PUBLISHED</th>\n",
       "      <th>IS_ATTENDING</th>\n",
       "    </tr>\n",
       "  </thead>\n",
       "  <tbody>\n",
       "    <tr>\n",
       "      <th>0</th>\n",
       "      <td>7233969530023096321</td>\n",
       "      <td>Will you be attending DMEXCO this year? Join S...</td>\n",
       "      <td>NaN</td>\n",
       "      <td>2024-08-26T22:52:16.568Z</td>\n",
       "      <td>yes</td>\n",
       "    </tr>\n",
       "    <tr>\n",
       "      <th>1</th>\n",
       "      <td>7116725767505330176</td>\n",
       "      <td>Dans les coulisses des émissions de THE SOCIET...</td>\n",
       "      <td>NaN</td>\n",
       "      <td>2023-10-08T10:07:25.322Z</td>\n",
       "      <td>no</td>\n",
       "    </tr>\n",
       "    <tr>\n",
       "      <th>2</th>\n",
       "      <td>6882671739764031488</td>\n",
       "      <td>Don’t be afraid. This was traditionally my las...</td>\n",
       "      <td>NaN</td>\n",
       "      <td>2021-12-31T13:20:16.601Z</td>\n",
       "      <td>no</td>\n",
       "    </tr>\n",
       "    <tr>\n",
       "      <th>3</th>\n",
       "      <td>7242942933220442112</td>\n",
       "      <td>#wwc</td>\n",
       "      <td>NaN</td>\n",
       "      <td>2024-09-20T17:09:22.620Z</td>\n",
       "      <td>no</td>\n",
       "    </tr>\n",
       "    <tr>\n",
       "      <th>4</th>\n",
       "      <td>7243861658689843200</td>\n",
       "      <td>💥 50.000 people, two major events, one city. 💥...</td>\n",
       "      <td>NaN</td>\n",
       "      <td>2024-09-23T06:00:03.850Z</td>\n",
       "      <td>yes</td>\n",
       "    </tr>\n",
       "  </tbody>\n",
       "</table>\n",
       "</div>"
      ],
      "text/plain": [
       "               POST_ID                                          POST_TEXT  \\\n",
       "0  7233969530023096321  Will you be attending DMEXCO this year? Join S...   \n",
       "1  7116725767505330176  Dans les coulisses des émissions de THE SOCIET...   \n",
       "2  6882671739764031488  Don’t be afraid. This was traditionally my las...   \n",
       "3  7242942933220442112                                               #wwc   \n",
       "4  7243861658689843200  💥 50.000 people, two major events, one city. 💥...   \n",
       "\n",
       "  SHARED_POST_TEXT            DATE_PUBLISHED IS_ATTENDING  \n",
       "0              NaN  2024-08-26T22:52:16.568Z          yes  \n",
       "1              NaN  2023-10-08T10:07:25.322Z           no  \n",
       "2              NaN  2021-12-31T13:20:16.601Z           no  \n",
       "3              NaN  2024-09-20T17:09:22.620Z           no  \n",
       "4              NaN  2024-09-23T06:00:03.850Z          yes  "
      ]
     },
     "execution_count": 21,
     "metadata": {},
     "output_type": "execute_result"
    }
   ],
   "source": [
    "df1.head()"
   ]
  },
  {
   "cell_type": "code",
   "execution_count": 23,
   "metadata": {},
   "outputs": [],
   "source": [
    "new_df = pd.merge(df1, df2, on='POST_ID', how='inner')"
   ]
  },
  {
   "cell_type": "code",
   "execution_count": 27,
   "metadata": {},
   "outputs": [],
   "source": [
    "new_df.drop(columns = ['id'], inplace=True)"
   ]
  },
  {
   "cell_type": "code",
   "execution_count": 29,
   "metadata": {},
   "outputs": [],
   "source": [
    "new_df.rename(columns={'dmexco_related': 'dmexco_found'}, inplace=True)"
   ]
  },
  {
   "cell_type": "code",
   "execution_count": 32,
   "metadata": {},
   "outputs": [],
   "source": [
    "new_df.to_csv('output/prompt_classification_output.csv', index=False)"
   ]
  },
  {
   "cell_type": "code",
   "execution_count": 24,
   "metadata": {},
   "outputs": [],
   "source": [
    "from sklearn.metrics import accuracy_score, classification_report"
   ]
  },
  {
   "cell_type": "code",
   "execution_count": 25,
   "metadata": {},
   "outputs": [
    {
     "name": "stdout",
     "output_type": "stream",
     "text": [
      "Accuracy: 0.9655831739961759\n",
      "Classification Report:\n",
      "              precision    recall  f1-score   support\n",
      "\n",
      "          no       0.99      0.96      0.97      1070\n",
      "         yes       0.93      0.97      0.95       499\n",
      "\n",
      "    accuracy                           0.97      1569\n",
      "   macro avg       0.96      0.97      0.96      1569\n",
      "weighted avg       0.97      0.97      0.97      1569\n",
      "\n"
     ]
    }
   ],
   "source": [
    "true_values = new_df['IS_ATTENDING']\n",
    "predicted_values = new_df['dmexco_related']\n",
    "accuracy = accuracy_score(true_values, predicted_values)\n",
    "print(f'Accuracy: {accuracy}')\n",
    "\n",
    "\n",
    "# Print classification report\n",
    "class_report = classification_report(true_values, predicted_values)\n",
    "print('Classification Report:')\n",
    "print(class_report)"
   ]
  },
  {
   "cell_type": "code",
   "execution_count": null,
   "metadata": {},
   "outputs": [],
   "source": []
  }
 ],
 "metadata": {
  "kernelspec": {
   "display_name": ".venv",
   "language": "python",
   "name": "python3"
  },
  "language_info": {
   "codemirror_mode": {
    "name": "ipython",
    "version": 3
   },
   "file_extension": ".py",
   "mimetype": "text/x-python",
   "name": "python",
   "nbconvert_exporter": "python",
   "pygments_lexer": "ipython3",
   "version": "3.12.1"
  }
 },
 "nbformat": 4,
 "nbformat_minor": 2
}
